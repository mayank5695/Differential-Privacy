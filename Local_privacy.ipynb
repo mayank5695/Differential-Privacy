{
  "nbformat": 4,
  "nbformat_minor": 0,
  "metadata": {
    "colab": {
      "name": "Local_privacy.ipynb",
      "provenance": [],
      "collapsed_sections": [],
      "include_colab_link": true
    },
    "kernelspec": {
      "display_name": "Python 3",
      "name": "python3"
    }
  },
  "cells": [
    {
      "cell_type": "markdown",
      "metadata": {
        "id": "view-in-github",
        "colab_type": "text"
      },
      "source": [
        "<a href=\"https://colab.research.google.com/github/mayank5695/Differential-Privacy/blob/master/Local_privacy.ipynb\" target=\"_parent\"><img src=\"https://colab.research.google.com/assets/colab-badge.svg\" alt=\"Open In Colab\"/></a>"
      ]
    },
    {
      "cell_type": "markdown",
      "metadata": {
        "colab_type": "text",
        "id": "ijJYKVc05DYX"
      },
      "source": [
        "## Setup"
      ]
    },
    {
      "cell_type": "code",
      "metadata": {
        "colab_type": "code",
        "id": "ef56gCUqrdVn",
        "colab": {}
      },
      "source": [
        "from __future__ import absolute_import\n",
        "from __future__ import division\n",
        "from __future__ import print_function\n",
        "\n",
        "try:\n",
        "  # %tensorflow_version only exists in Colab.\n",
        "  %tensorflow_version 1.x\n",
        "except Exception:\n",
        "  pass\n",
        "\n",
        "import tensorflow as tf\n",
        "\n",
        "import numpy as np\n",
        "\n",
        "tf.compat.v1.logging.set_verbosity(tf.logging.ERROR)"
      ],
      "execution_count": 0,
      "outputs": []
    },
    {
      "cell_type": "markdown",
      "metadata": {
        "colab_type": "text",
        "id": "r_fVhfUyeI3d"
      },
      "source": [
        "Install TensorFlow Privacy."
      ]
    },
    {
      "cell_type": "code",
      "metadata": {
        "colab_type": "code",
        "id": "RseeuA7veIHU",
        "outputId": "1a55dd27-ab09-4547-b521-9f02b2083317",
        "colab": {
          "base_uri": "https://localhost:8080/",
          "height": 85
        }
      },
      "source": [
        "!pip install tensorflow_privacy\n",
        "\n",
        "from tensorflow_privacy.privacy.analysis import compute_dp_sgd_privacy\n",
        "from tensorflow_privacy.privacy.optimizers.dp_optimizer import DPGradientDescentGaussianOptimizer"
      ],
      "execution_count": 0,
      "outputs": [
        {
          "output_type": "stream",
          "text": [
            "Requirement already satisfied: tensorflow_privacy in /usr/local/lib/python3.6/dist-packages (0.2.2)\n",
            "Requirement already satisfied: scipy>=0.17 in /usr/local/lib/python3.6/dist-packages (from tensorflow_privacy) (1.4.1)\n",
            "Requirement already satisfied: mpmath in /usr/local/lib/python3.6/dist-packages (from tensorflow_privacy) (1.1.0)\n",
            "Requirement already satisfied: numpy>=1.13.3 in /usr/local/lib/python3.6/dist-packages (from scipy>=0.17->tensorflow_privacy) (1.17.5)\n"
          ],
          "name": "stdout"
        }
      ]
    },
    {
      "cell_type": "code",
      "metadata": {
        "id": "Bf6iMVIYAvgx",
        "colab_type": "code",
        "colab": {}
      },
      "source": [
        "!pip install -q pyyaml h5py"
      ],
      "execution_count": 0,
      "outputs": []
    },
    {
      "cell_type": "markdown",
      "metadata": {
        "colab_type": "text",
        "id": "mU1p8N7M5Mmn"
      },
      "source": [
        "## Load and pre-process the dataset\n",
        "\n",
        "Load the [MNIST](http://yann.lecun.com/exdb/mnist/) dataset and prepare the data for training."
      ]
    },
    {
      "cell_type": "code",
      "metadata": {
        "colab_type": "code",
        "id": "_1ML23FlueTr",
        "outputId": "f8abacee-0560-49ef-cbd2-0a8d2a8bd0ed",
        "colab": {
          "base_uri": "https://localhost:8080/",
          "height": 68
        }
      },
      "source": [
        "train, test = tf.keras.datasets.mnist.load_data()\n",
        "train_data, train_labels = train\n",
        "test_data, test_labels = test\n",
        "\n",
        "train_data = np.array(train_data, dtype=np.float32) / 255\n",
        "test_data = np.array(test_data, dtype=np.float32) / 255\n",
        "\n",
        "train_data = train_data.reshape(train_data.shape[0], 28, 28, 1)\n",
        "test_data = test_data.reshape(test_data.shape[0], 28, 28, 1)\n",
        "\n",
        "train_labels = np.array(train_labels, dtype=np.int32)\n",
        "test_labels = np.array(test_labels, dtype=np.int32)\n",
        "\n",
        "train_labels = tf.keras.utils.to_categorical(train_labels, num_classes=10)\n",
        "test_labels = tf.keras.utils.to_categorical(test_labels, num_classes=10)\n",
        "\n",
        "assert train_data.min() == 0.\n",
        "assert train_data.max() == 1.\n",
        "assert test_data.min() == 0.\n",
        "assert test_data.max() == 1.\n",
        "train_data.shape\n"
      ],
      "execution_count": 0,
      "outputs": [
        {
          "output_type": "stream",
          "text": [
            "Downloading data from https://storage.googleapis.com/tensorflow/tf-keras-datasets/mnist.npz\n",
            "11493376/11490434 [==============================] - 0s 0us/step\n"
          ],
          "name": "stdout"
        },
        {
          "output_type": "execute_result",
          "data": {
            "text/plain": [
              "(60000, 28, 28, 1)"
            ]
          },
          "metadata": {
            "tags": []
          },
          "execution_count": 4
        }
      ]
    },
    {
      "cell_type": "code",
      "metadata": {
        "colab_type": "code",
        "id": "E14tL1vUuTRV",
        "colab": {}
      },
      "source": [
        ""
      ],
      "execution_count": 0,
      "outputs": []
    },
    {
      "cell_type": "markdown",
      "metadata": {
        "colab_type": "text",
        "id": "wXAmHcNOmHc5"
      },
      "source": [
        "## Build the learning model\n",
        "\n",
        "Define a convolutional neural network as the learning model. "
      ]
    },
    {
      "cell_type": "code",
      "metadata": {
        "colab_type": "code",
        "id": "oCOo8aOLmFta",
        "colab": {}
      },
      "source": [
        "model = tf.keras.Sequential([\n",
        "    tf.keras.layers.Conv2D(16, 8,\n",
        "                           strides=2,\n",
        "                           padding='same',\n",
        "                           activation='relu',\n",
        "                           input_shape=(28, 28, 1)),\n",
        "    tf.keras.layers.MaxPool2D(2, 1),\n",
        "    tf.keras.layers.Conv2D(32, 4,\n",
        "                           strides=2,\n",
        "                           padding='valid',\n",
        "                           activation='relu'),\n",
        "    tf.keras.layers.MaxPool2D(2, 1),\n",
        "    tf.keras.layers.Flatten(),\n",
        "    tf.keras.layers.Dense(32, activation='relu'),\n",
        "    tf.keras.layers.Dense(10, activation='softmax')\n",
        "])"
      ],
      "execution_count": 0,
      "outputs": []
    },
    {
      "cell_type": "code",
      "metadata": {
        "id": "UQrQfv_N669q",
        "colab_type": "code",
        "colab": {}
      },
      "source": [
        "# normal model\n",
        "model.compile(loss='categorical_crossentropy',\n",
        "                  optimizer=tf.keras.optimizers.Adam(),\n",
        "                  metrics=['accuracy'])\n"
      ],
      "execution_count": 0,
      "outputs": []
    },
    {
      "cell_type": "code",
      "metadata": {
        "id": "MO42tsvs74WX",
        "colab_type": "code",
        "outputId": "12887452-2b75-48fd-cc6a-95b0076f3694",
        "colab": {
          "base_uri": "https://localhost:8080/",
          "height": 544
        }
      },
      "source": [
        "history=model.fit(train_data, train_labels,\n",
        "          epochs=epochs,\n",
        "          validation_data=(test_data, test_labels),\n",
        "          batch_size=batch_size,verbose=1)"
      ],
      "execution_count": 0,
      "outputs": [
        {
          "output_type": "stream",
          "text": [
            "Train on 60000 samples, validate on 10000 samples\n",
            "Epoch 1/15\n",
            "60000/60000 [==============================] - 21s 354us/sample - loss: 0.5072 - acc: 0.8576 - val_loss: 0.1413 - val_acc: 0.9567\n",
            "Epoch 2/15\n",
            "60000/60000 [==============================] - 20s 328us/sample - loss: 0.1227 - acc: 0.9629 - val_loss: 0.0869 - val_acc: 0.9736\n",
            "Epoch 3/15\n",
            "60000/60000 [==============================] - 20s 329us/sample - loss: 0.0857 - acc: 0.9737 - val_loss: 0.0648 - val_acc: 0.9799\n",
            "Epoch 4/15\n",
            "60000/60000 [==============================] - 20s 330us/sample - loss: 0.0668 - acc: 0.9802 - val_loss: 0.0523 - val_acc: 0.9840\n",
            "Epoch 5/15\n",
            "60000/60000 [==============================] - 20s 331us/sample - loss: 0.0557 - acc: 0.9833 - val_loss: 0.0438 - val_acc: 0.9861\n",
            "Epoch 6/15\n",
            "60000/60000 [==============================] - 20s 331us/sample - loss: 0.0502 - acc: 0.9847 - val_loss: 0.0512 - val_acc: 0.9841\n",
            "Epoch 7/15\n",
            "60000/60000 [==============================] - 20s 334us/sample - loss: 0.0432 - acc: 0.9868 - val_loss: 0.0458 - val_acc: 0.9855\n",
            "Epoch 8/15\n",
            "60000/60000 [==============================] - 20s 332us/sample - loss: 0.0392 - acc: 0.9877 - val_loss: 0.0417 - val_acc: 0.9868\n",
            "Epoch 9/15\n",
            "60000/60000 [==============================] - 20s 330us/sample - loss: 0.0344 - acc: 0.9894 - val_loss: 0.0353 - val_acc: 0.9892\n",
            "Epoch 10/15\n",
            "60000/60000 [==============================] - 20s 329us/sample - loss: 0.0319 - acc: 0.9901 - val_loss: 0.0409 - val_acc: 0.9875\n",
            "Epoch 11/15\n",
            "60000/60000 [==============================] - 20s 332us/sample - loss: 0.0288 - acc: 0.9912 - val_loss: 0.0378 - val_acc: 0.9885\n",
            "Epoch 12/15\n",
            "60000/60000 [==============================] - 20s 332us/sample - loss: 0.0276 - acc: 0.9911 - val_loss: 0.0325 - val_acc: 0.9891\n",
            "Epoch 13/15\n",
            "60000/60000 [==============================] - 20s 334us/sample - loss: 0.0233 - acc: 0.9926 - val_loss: 0.0385 - val_acc: 0.9889\n",
            "Epoch 14/15\n",
            "60000/60000 [==============================] - 20s 328us/sample - loss: 0.0227 - acc: 0.9929 - val_loss: 0.0319 - val_acc: 0.9894\n",
            "Epoch 15/15\n",
            "60000/60000 [==============================] - 20s 331us/sample - loss: 0.0208 - acc: 0.9933 - val_loss: 0.0290 - val_acc: 0.9909\n"
          ],
          "name": "stdout"
        }
      ]
    },
    {
      "cell_type": "code",
      "metadata": {
        "id": "EbRPJ_CC_odZ",
        "colab_type": "code",
        "outputId": "061b37de-c523-485f-b637-e1fa46bae0ac",
        "colab": {
          "base_uri": "https://localhost:8080/",
          "height": 1000
        }
      },
      "source": [
        "history.history"
      ],
      "execution_count": 0,
      "outputs": [
        {
          "output_type": "execute_result",
          "data": {
            "text/plain": [
              "{'acc': [0.9909833,\n",
              "  0.99121666,\n",
              "  0.99223334,\n",
              "  0.99271667,\n",
              "  0.99315,\n",
              "  0.99378335,\n",
              "  0.9947,\n",
              "  0.99476665,\n",
              "  0.99471664,\n",
              "  0.9957,\n",
              "  0.9952667,\n",
              "  0.99565,\n",
              "  0.99623334,\n",
              "  0.99645,\n",
              "  0.99663335],\n",
              " 'loss': [0.029081047600872503,\n",
              "  0.02700644302822184,\n",
              "  0.025584591436199844,\n",
              "  0.022925902414135634,\n",
              "  0.02154007863816029,\n",
              "  0.020281605695587738,\n",
              "  0.017912654145038686,\n",
              "  0.016597146920200128,\n",
              "  0.016986622845676418,\n",
              "  0.013940705678639158,\n",
              "  0.014373191498452797,\n",
              "  0.01370683208721554,\n",
              "  0.011629528773967952,\n",
              "  0.01086321683493831,\n",
              "  0.010284423019523576],\n",
              " 'val_acc': [0.9902,\n",
              "  0.9908,\n",
              "  0.9861,\n",
              "  0.991,\n",
              "  0.9886,\n",
              "  0.9899,\n",
              "  0.9897,\n",
              "  0.9885,\n",
              "  0.9898,\n",
              "  0.9893,\n",
              "  0.9903,\n",
              "  0.9865,\n",
              "  0.9904,\n",
              "  0.9909,\n",
              "  0.9887],\n",
              " 'val_loss': [0.030437329143751413,\n",
              "  0.02836781390942633,\n",
              "  0.04329470240045339,\n",
              "  0.02935543075436726,\n",
              "  0.034161051211412996,\n",
              "  0.030789446888957173,\n",
              "  0.030948659812565893,\n",
              "  0.03448528342414647,\n",
              "  0.029541505960514768,\n",
              "  0.03473215332487598,\n",
              "  0.029254326716181823,\n",
              "  0.04508740954915993,\n",
              "  0.0341882940963842,\n",
              "  0.03130942023417447,\n",
              "  0.040713500883430245]}"
            ]
          },
          "metadata": {
            "tags": []
          },
          "execution_count": 15
        }
      ]
    },
    {
      "cell_type": "code",
      "metadata": {
        "id": "LfNsnZmW_ex6",
        "colab_type": "code",
        "outputId": "1d948842-d7b3-4621-bd7f-d7093603db54",
        "colab": {
          "base_uri": "https://localhost:8080/",
          "height": 676
        }
      },
      "source": [
        "import matplotlib.pyplot as plt\n",
        "\n",
        "loss_val,metric_acc=model.evaluate(test_data,test_labels,verbose=True)\n",
        "plt.style.use(\"fivethirtyeight\")\n",
        "plt.plot(history.history['acc'])\n",
        "plt.plot(history.history['val_acc'])\n",
        "plt.title('baseline model')\n",
        "plt.ylabel('accuracy')\n",
        "plt.xlabel('epoch')\n",
        "plt.legend(['training', 'validation'], loc='best')\n",
        "plt.show()\n",
        "loss_val,metric_acc"
      ],
      "execution_count": 0,
      "outputs": [
        {
          "output_type": "stream",
          "text": [
            "10000/10000 [==============================] - 2s 153us/sample - loss: 0.0290 - acc: 0.9909\n"
          ],
          "name": "stdout"
        },
        {
          "output_type": "display_data",
          "data": {
            "image/png": "[encoded data removed]",
            "text/plain": [
              "<Figure size 432x288 with 1 Axes>"
            ]
          },
          "metadata": {
            "tags": []
          }
        },
        {
          "output_type": "error",
          "ename": "TypeError",
          "evalue": "ignored",
          "traceback": [
            "\u001b[0;31m---------------------------------------------------------------------------\u001b[0m",
            "\u001b[0;31mTypeError\u001b[0m                                 Traceback (most recent call last)",
            "\u001b[0;32m<ipython-input-14-a35d66643d62>\u001b[0m in \u001b[0;36m<module>\u001b[0;34m()\u001b[0m\n\u001b[1;32m     10\u001b[0m \u001b[0mplt\u001b[0m\u001b[0;34m.\u001b[0m\u001b[0mlegend\u001b[0m\u001b[0;34m(\u001b[0m\u001b[0;34m[\u001b[0m\u001b[0;34m'training'\u001b[0m\u001b[0;34m,\u001b[0m \u001b[0;34m'validation'\u001b[0m\u001b[0;34m]\u001b[0m\u001b[0;34m,\u001b[0m \u001b[0mloc\u001b[0m\u001b[0;34m=\u001b[0m\u001b[0;34m'best'\u001b[0m\u001b[0;34m)\u001b[0m\u001b[0;34m\u001b[0m\u001b[0;34m\u001b[0m\u001b[0m\n\u001b[1;32m     11\u001b[0m \u001b[0mplt\u001b[0m\u001b[0;34m.\u001b[0m\u001b[0mshow\u001b[0m\u001b[0;34m(\u001b[0m\u001b[0;34m)\u001b[0m\u001b[0;34m\u001b[0m\u001b[0;34m\u001b[0m\u001b[0m\n\u001b[0;32m---> 12\u001b[0;31m \u001b[0mplt\u001b[0m\u001b[0;34m.\u001b[0m\u001b[0msavefig\u001b[0m\u001b[0;34m(\u001b[0m\u001b[0mplt\u001b[0m\u001b[0;34m.\u001b[0m\u001b[0mfigure\u001b[0m\u001b[0;34m(\u001b[0m\u001b[0;34m)\u001b[0m\u001b[0;34m,\u001b[0m\u001b[0;34m'a.jpeg'\u001b[0m\u001b[0;34m,\u001b[0m \u001b[0mbbox_inches\u001b[0m\u001b[0;34m=\u001b[0m\u001b[0;34m'tight'\u001b[0m\u001b[0;34m)\u001b[0m\u001b[0;34m\u001b[0m\u001b[0;34m\u001b[0m\u001b[0m\n\u001b[0m\u001b[1;32m     13\u001b[0m \u001b[0mloss_val\u001b[0m\u001b[0;34m,\u001b[0m\u001b[0mmetric_acc\u001b[0m\u001b[0;34m\u001b[0m\u001b[0;34m\u001b[0m\u001b[0m\n",
            "\u001b[0;32m/usr/local/lib/python3.6/dist-packages/matplotlib/pyplot.py\u001b[0m in \u001b[0;36msavefig\u001b[0;34m(*args, **kwargs)\u001b[0m\n\u001b[1;32m    720\u001b[0m \u001b[0;32mdef\u001b[0m \u001b[0msavefig\u001b[0m\u001b[0;34m(\u001b[0m\u001b[0;34m*\u001b[0m\u001b[0margs\u001b[0m\u001b[0;34m,\u001b[0m \u001b[0;34m**\u001b[0m\u001b[0mkwargs\u001b[0m\u001b[0;34m)\u001b[0m\u001b[0;34m:\u001b[0m\u001b[0;34m\u001b[0m\u001b[0;34m\u001b[0m\u001b[0m\n\u001b[1;32m    721\u001b[0m     \u001b[0mfig\u001b[0m \u001b[0;34m=\u001b[0m \u001b[0mgcf\u001b[0m\u001b[0;34m(\u001b[0m\u001b[0;34m)\u001b[0m\u001b[0;34m\u001b[0m\u001b[0;34m\u001b[0m\u001b[0m\n\u001b[0;32m--> 722\u001b[0;31m     \u001b[0mres\u001b[0m \u001b[0;34m=\u001b[0m \u001b[0mfig\u001b[0m\u001b[0;34m.\u001b[0m\u001b[0msavefig\u001b[0m\u001b[0;34m(\u001b[0m\u001b[0;34m*\u001b[0m\u001b[0margs\u001b[0m\u001b[0;34m,\u001b[0m \u001b[0;34m**\u001b[0m\u001b[0mkwargs\u001b[0m\u001b[0;34m)\u001b[0m\u001b[0;34m\u001b[0m\u001b[0;34m\u001b[0m\u001b[0m\n\u001b[0m\u001b[1;32m    723\u001b[0m     \u001b[0mfig\u001b[0m\u001b[0;34m.\u001b[0m\u001b[0mcanvas\u001b[0m\u001b[0;34m.\u001b[0m\u001b[0mdraw_idle\u001b[0m\u001b[0;34m(\u001b[0m\u001b[0;34m)\u001b[0m   \u001b[0;31m# need this if 'transparent=True' to reset colors\u001b[0m\u001b[0;34m\u001b[0m\u001b[0;34m\u001b[0m\u001b[0m\n\u001b[1;32m    724\u001b[0m     \u001b[0;32mreturn\u001b[0m \u001b[0mres\u001b[0m\u001b[0;34m\u001b[0m\u001b[0;34m\u001b[0m\u001b[0m\n",
            "\u001b[0;31mTypeError\u001b[0m: savefig() takes 2 positional arguments but 3 were given"
          ]
        },
        {
          "output_type": "display_data",
          "data": {
            "text/plain": [
              "<Figure size 432x288 with 0 Axes>"
            ]
          },
          "metadata": {
            "tags": []
          }
        }
      ]
    },
    {
      "cell_type": "code",
      "metadata": {
        "id": "cYkHWTTcA_Ug",
        "colab_type": "code",
        "colab": {}
      },
      "source": [
        "model.save_weights('/simple_model')\n",
        "model.save('/my_model.h5')"
      ],
      "execution_count": 0,
      "outputs": []
    },
    {
      "cell_type": "markdown",
      "metadata": {
        "colab_type": "text",
        "id": "FT4lByFg-I_r"
      },
      "source": [
        "Define the optimizer and loss function for the learning model. Compute the loss as a vector of losses per-example rather than as the mean over a minibatch to support gradient manipulation over each training point. "
      ]
    },
    {
      "cell_type": "markdown",
      "metadata": {
        "colab_type": "text",
        "id": "LI_3nXzEGmrP"
      },
      "source": [
        "## Using local noise in front, Laplacian noise in general and then use this noise to hide the value and run the model again.\n",
        "\n",
        "---\n",
        "\n",
        "\n"
      ]
    },
    {
      "cell_type": "code",
      "metadata": {
        "id": "e99Z9NDdPB0c",
        "colab_type": "code",
        "colab": {}
      },
      "source": [
        "epsilon=1.18\n",
        "beta=1/epsilon\n",
        "train, test = tf.keras.datasets.mnist.load_data()\n",
        "train_data, train_labels = train\n",
        "#test_data, test_labels = test\n",
        "\n",
        "x_train = train_data.astype('float32') / 255.\n",
        "x_train = np.reshape(x_train, (len(x_train), 28, 28, 1))  # adapt this if using `channels_first` image data format\n",
        "test_data=np.reshape(test_data,(len(test_data),28,28,1))"
      ],
      "execution_count": 0,
      "outputs": []
    },
    {
      "cell_type": "code",
      "metadata": {
        "id": "nrrQ3iyWRhly",
        "colab_type": "code",
        "outputId": "caaa6f5a-d0ca-462a-d959-eaa03f6a9b69",
        "colab": {
          "base_uri": "https://localhost:8080/",
          "height": 34
        }
      },
      "source": [
        "epsilon=0.1\n",
        "beta=1/epsilon\n",
        "print(x_train.shape)\n",
        "x_train_noisy = x_train + np.random.laplace(loc=0.0, scale=beta, size=x_train.shape)\n",
        "#train_labels=train_labels+np.random.laplace(loc=0.0,scale=beta,size=train_labels.shape)\n",
        "x_train_noisy.shape\n",
        "test_data.shape\n",
        "train_labels = tf.keras.utils.to_categorical(train_labels, num_classes=10)\n",
        "test_labels = tf.keras.utils.to_categorical(test_labels, num_classes=10)"
      ],
      "execution_count": 0,
      "outputs": [
        {
          "output_type": "stream",
          "text": [
            "(60000, 28, 28, 1)\n"
          ],
          "name": "stdout"
        }
      ]
    },
    {
      "cell_type": "code",
      "metadata": {
        "id": "IFeNQhVoR0ER",
        "colab_type": "code",
        "outputId": "59774fab-39e6-462f-96db-0f047b3a6ed0",
        "colab": {
          "base_uri": "https://localhost:8080/",
          "height": 544
        }
      },
      "source": [
        "history=model.fit(x_train_noisy, train_labels,\n",
        "          epochs=epochs,\n",
        "          validation_data=(test_data, test_labels),\n",
        "          batch_size=batch_size,verbose=1)"
      ],
      "execution_count": 0,
      "outputs": [
        {
          "output_type": "stream",
          "text": [
            "Train on 60000 samples, validate on 10000 samples\n",
            "Epoch 1/15\n",
            "60000/60000 [==============================] - 20s 333us/sample - loss: 4.9257 - acc: 0.1096 - val_loss: 66.8720 - val_acc: 0.1706\n",
            "Epoch 2/15\n",
            "60000/60000 [==============================] - 20s 334us/sample - loss: 2.3013 - acc: 0.1124 - val_loss: 66.8690 - val_acc: 0.1708\n",
            "Epoch 3/15\n",
            "60000/60000 [==============================] - 21s 342us/sample - loss: 2.3013 - acc: 0.1124 - val_loss: 66.8737 - val_acc: 0.1707\n",
            "Epoch 4/15\n",
            "60000/60000 [==============================] - 20s 334us/sample - loss: 2.3013 - acc: 0.1124 - val_loss: 66.8690 - val_acc: 0.1708\n",
            "Epoch 5/15\n",
            "60000/60000 [==============================] - 20s 337us/sample - loss: 2.3013 - acc: 0.1124 - val_loss: 66.8692 - val_acc: 0.1708\n",
            "Epoch 6/15\n",
            "60000/60000 [==============================] - 20s 337us/sample - loss: 2.3013 - acc: 0.1124 - val_loss: 66.8712 - val_acc: 0.1708\n",
            "Epoch 7/15\n",
            "60000/60000 [==============================] - 20s 336us/sample - loss: 2.3013 - acc: 0.1124 - val_loss: 66.8720 - val_acc: 0.1707\n",
            "Epoch 8/15\n",
            "60000/60000 [==============================] - 20s 334us/sample - loss: 2.3012 - acc: 0.1124 - val_loss: 66.8714 - val_acc: 0.1707\n",
            "Epoch 9/15\n",
            "60000/60000 [==============================] - 20s 335us/sample - loss: 2.3013 - acc: 0.1124 - val_loss: 66.8733 - val_acc: 0.1706\n",
            "Epoch 10/15\n",
            "60000/60000 [==============================] - 20s 332us/sample - loss: 2.3012 - acc: 0.1124 - val_loss: 66.8730 - val_acc: 0.1708\n",
            "Epoch 11/15\n",
            "60000/60000 [==============================] - 20s 340us/sample - loss: 2.3013 - acc: 0.1124 - val_loss: 66.8713 - val_acc: 0.1708\n",
            "Epoch 12/15\n",
            "60000/60000 [==============================] - 20s 336us/sample - loss: 2.3013 - acc: 0.1124 - val_loss: 66.8733 - val_acc: 0.1708\n",
            "Epoch 13/15\n",
            "60000/60000 [==============================] - 20s 336us/sample - loss: 2.3012 - acc: 0.1124 - val_loss: 66.8746 - val_acc: 0.1708\n",
            "Epoch 14/15\n",
            "60000/60000 [==============================] - 20s 336us/sample - loss: 2.3013 - acc: 0.1124 - val_loss: 66.8757 - val_acc: 0.1708\n",
            "Epoch 15/15\n",
            "60000/60000 [==============================] - 20s 336us/sample - loss: 2.3013 - acc: 0.1124 - val_loss: 66.8741 - val_acc: 0.1708\n"
          ],
          "name": "stdout"
        }
      ]
    },
    {
      "cell_type": "code",
      "metadata": {
        "id": "U6oH8aksz17Z",
        "colab_type": "code",
        "colab": {}
      },
      "source": [
        "import matplotlib.pyplot as plt\n",
        "\n",
        "loss_val,metric_acc=model.evaluate(test_data,test_labels,verbose=True)\n",
        "plt.style.use(\"fivethirtyeight\")\n",
        "plt.plot(history.history['acc'])\n",
        "plt.plot(history.history['val_acc'])\n",
        "plt.title('model accuracy')\n",
        "plt.ylabel('accuracy')\n",
        "plt.xlabel('epoch')\n",
        "plt.legend(['training', 'validation'], loc='best')\n",
        "plt.show()\n",
        "loss_val,metric_acc"
      ],
      "execution_count": 0,
      "outputs": []
    },
    {
      "cell_type": "code",
      "metadata": {
        "id": "EJ5gM2kDisUs",
        "colab_type": "code",
        "outputId": "7cd0440d-7697-44e7-ae4c-538077941102",
        "colab": {
          "base_uri": "https://localhost:8080/",
          "height": 51
        }
      },
      "source": [
        "epsilon=1.3\n",
        "beta=1/epsilon\n",
        "print(x_train.shape)\n",
        "x_train_noisy = x_train + np.random.laplace(loc=0.0, scale=beta, size=x_train.shape)\n",
        "#train_labels=train_labels+np.random.laplace(loc=0.0,scale=beta,size=train_labels.shape)\n",
        "x_train_noisy.shape\n",
        "test_data.shape"
      ],
      "execution_count": 0,
      "outputs": [
        {
          "output_type": "stream",
          "text": [
            "(60000, 28, 28, 1)\n"
          ],
          "name": "stdout"
        },
        {
          "output_type": "execute_result",
          "data": {
            "text/plain": [
              "(10000, 28, 28, 1)"
            ]
          },
          "metadata": {
            "tags": []
          },
          "execution_count": 66
        }
      ]
    },
    {
      "cell_type": "code",
      "metadata": {
        "id": "jqAoWdJQiw5G",
        "colab_type": "code",
        "outputId": "871397d3-bb8e-462c-c353-597a2029cc8e",
        "colab": {
          "base_uri": "https://localhost:8080/",
          "height": 544
        }
      },
      "source": [
        "history=model.fit(x_train_noisy, train_labels,\n",
        "          epochs=epochs,\n",
        "          validation_data=(test_data, test_labels),\n",
        "          batch_size=batch_size,verbose=1)"
      ],
      "execution_count": 0,
      "outputs": [
        {
          "output_type": "stream",
          "text": [
            "Train on 60000 samples, validate on 10000 samples\n",
            "Epoch 1/15\n",
            "60000/60000 [==============================] - 18s 298us/sample - loss: 1610.5110 - acc: 0.1025 - val_loss: 130.9343 - val_acc: 0.3979\n",
            "Epoch 2/15\n",
            "60000/60000 [==============================] - 18s 297us/sample - loss: 8.0159 - acc: 0.1029 - val_loss: 129.8417 - val_acc: 0.3909\n",
            "Epoch 3/15\n",
            "60000/60000 [==============================] - 18s 298us/sample - loss: 7.9023 - acc: 0.1029 - val_loss: 141.2681 - val_acc: 0.3757\n",
            "Epoch 4/15\n",
            "60000/60000 [==============================] - 18s 298us/sample - loss: 3.8996 - acc: 0.1027 - val_loss: 175.5665 - val_acc: 0.3441\n",
            "Epoch 5/15\n",
            "60000/60000 [==============================] - 18s 297us/sample - loss: 15.8366 - acc: 0.1027 - val_loss: 168.7845 - val_acc: 0.3196\n",
            "Epoch 6/15\n",
            "60000/60000 [==============================] - 18s 298us/sample - loss: 21.0462 - acc: 0.1041 - val_loss: 161.4923 - val_acc: 0.3466\n",
            "Epoch 7/15\n",
            "60000/60000 [==============================] - 18s 298us/sample - loss: 33.7285 - acc: 0.1032 - val_loss: 150.6290 - val_acc: 0.2975\n",
            "Epoch 8/15\n",
            "60000/60000 [==============================] - 18s 300us/sample - loss: 75.2819 - acc: 0.1042 - val_loss: 104.0977 - val_acc: 0.3363\n",
            "Epoch 9/15\n",
            "60000/60000 [==============================] - 18s 299us/sample - loss: 132.5337 - acc: 0.1040 - val_loss: 111.7621 - val_acc: 0.3686\n",
            "Epoch 10/15\n",
            "60000/60000 [==============================] - 18s 299us/sample - loss: 275.3513 - acc: 0.1056 - val_loss: 162.4552 - val_acc: 0.2414\n",
            "Epoch 11/15\n",
            "60000/60000 [==============================] - 18s 299us/sample - loss: 667.2772 - acc: 0.1045 - val_loss: 74.7238 - val_acc: 0.3799\n",
            "Epoch 12/15\n",
            "60000/60000 [==============================] - 18s 298us/sample - loss: 886.0837 - acc: 0.1029 - val_loss: 101.8933 - val_acc: 0.2422\n",
            "Epoch 13/15\n",
            "60000/60000 [==============================] - 18s 306us/sample - loss: 772.7934 - acc: 0.1011 - val_loss: 90.5102 - val_acc: 0.3266\n",
            "Epoch 14/15\n",
            "60000/60000 [==============================] - 18s 306us/sample - loss: 955.1532 - acc: 0.1015 - val_loss: 92.1230 - val_acc: 0.3008\n",
            "Epoch 15/15\n",
            "60000/60000 [==============================] - 18s 303us/sample - loss: 1210.8501 - acc: 0.1027 - val_loss: 75.5103 - val_acc: 0.3182\n"
          ],
          "name": "stdout"
        }
      ]
    },
    {
      "cell_type": "code",
      "metadata": {
        "id": "Td2PSLecXuK-",
        "colab_type": "code",
        "outputId": "811bce21-063e-4c67-b45e-bb0c4c369980",
        "colab": {
          "base_uri": "https://localhost:8080/",
          "height": 329
        }
      },
      "source": [
        "import matplotlib.pyplot as plt\n",
        "\n",
        "loss_val,metric_acc=model.evaluate(test_data,test_labels,verbose=True)\n",
        "plt.style.use(\"fivethirtyeight\")\n",
        "plt.plot(history.history['acc'])\n",
        "plt.plot(history.history['val_acc'])\n",
        "plt.title('model accuracy')\n",
        "plt.ylabel('accuracy')\n",
        "plt.xlabel('epoch')\n",
        "plt.legend(['training', 'validation'], loc='best')\n",
        "plt.show()\n",
        "loss_val,metric_acc"
      ],
      "execution_count": 0,
      "outputs": [
        {
          "output_type": "stream",
          "text": [
            "10000/10000 [==============================] - 1s 148us/sample - loss: 75.5103 - acc: 0.3182\n"
          ],
          "name": "stdout"
        },
        {
          "output_type": "display_data",
          "data": {
            "image/png": "[encoded data removed]",
            "text/plain": [
              "<Figure size 432x288 with 1 Axes>"
            ]
          },
          "metadata": {
            "tags": []
          }
        },
        {
          "output_type": "execute_result",
          "data": {
            "text/plain": [
              "(75.51031228027344, 0.3182)"
            ]
          },
          "metadata": {
            "tags": []
          },
          "execution_count": 68
        }
      ]
    },
    {
      "cell_type": "code",
      "metadata": {
        "id": "wgqngqAmYPiL",
        "colab_type": "code",
        "outputId": "4d11fff8-4bfd-4c5b-9151-2cee873bdf30",
        "colab": {
          "base_uri": "https://localhost:8080/",
          "height": 1000
        }
      },
      "source": [
        "epsilon=8\n",
        "beta=1/epsilon\n",
        "print(x_train.shape)\n",
        "x_train_noisy = x_train + np.random.laplace(loc=0.0, scale=beta, size=x_train.shape)\n",
        "#adding noise to training data\n",
        "train_labels=train_labels+np.random.laplace(loc=0.0,scale=beta,size=train_labels.shape)\n",
        "x_train_noisy.shape\n",
        "test_data.shape\n",
        "\n",
        "history=model.fit(x_train_noisy, train_labels,\n",
        "          epochs=100,\n",
        "          validation_data=(test_data, test_labels),\n",
        "          batch_size=batch_size,verbose=1)"
      ],
      "execution_count": 0,
      "outputs": [
        {
          "output_type": "stream",
          "text": [
            "(60000, 28, 28, 1)\n",
            "Train on 60000 samples, validate on 10000 samples\n",
            "Epoch 1/100\n",
            "60000/60000 [==============================] - 18s 301us/sample - loss: -158.0493 - acc: 0.3200 - val_loss: 46.9464 - val_acc: 0.8780\n",
            "Epoch 2/100\n",
            "60000/60000 [==============================] - 18s 301us/sample - loss: -156.3881 - acc: 0.3185 - val_loss: 55.8105 - val_acc: 0.8821\n",
            "Epoch 3/100\n",
            "60000/60000 [==============================] - 18s 302us/sample - loss: -183.5717 - acc: 0.3202 - val_loss: 104.4157 - val_acc: 0.7789\n",
            "Epoch 4/100\n",
            "60000/60000 [==============================] - 18s 299us/sample - loss: -201.5520 - acc: 0.3194 - val_loss: 88.7588 - val_acc: 0.8311\n",
            "Epoch 5/100\n",
            "60000/60000 [==============================] - 18s 298us/sample - loss: -217.2284 - acc: 0.3209 - val_loss: 82.2542 - val_acc: 0.8466\n",
            "Epoch 6/100\n",
            "60000/60000 [==============================] - 18s 302us/sample - loss: -240.2102 - acc: 0.3182 - val_loss: 81.3466 - val_acc: 0.8823\n",
            "Epoch 7/100\n",
            "60000/60000 [==============================] - 18s 302us/sample - loss: -290.0476 - acc: 0.3224 - val_loss: 146.7412 - val_acc: 0.8298\n",
            "Epoch 8/100\n",
            "60000/60000 [==============================] - 18s 302us/sample - loss: -307.3465 - acc: 0.3227 - val_loss: 92.7355 - val_acc: 0.9083\n",
            "Epoch 9/100\n",
            "60000/60000 [==============================] - 18s 301us/sample - loss: -347.5947 - acc: 0.3225 - val_loss: 135.1131 - val_acc: 0.8758\n",
            "Epoch 10/100\n",
            "60000/60000 [==============================] - 18s 303us/sample - loss: -386.9378 - acc: 0.3178 - val_loss: 120.9761 - val_acc: 0.8694\n",
            "Epoch 11/100\n",
            "60000/60000 [==============================] - 18s 298us/sample - loss: -402.5528 - acc: 0.3214 - val_loss: 153.9003 - val_acc: 0.8507\n",
            "Epoch 12/100\n",
            "60000/60000 [==============================] - 18s 300us/sample - loss: -446.0679 - acc: 0.3221 - val_loss: 199.2549 - val_acc: 0.8562\n",
            "Epoch 13/100\n",
            "60000/60000 [==============================] - 18s 301us/sample - loss: -515.6383 - acc: 0.3214 - val_loss: 236.6022 - val_acc: 0.8672\n",
            "Epoch 14/100\n",
            "60000/60000 [==============================] - 18s 301us/sample - loss: -520.3780 - acc: 0.3175 - val_loss: 268.7981 - val_acc: 0.8338\n",
            "Epoch 15/100\n",
            "60000/60000 [==============================] - 18s 302us/sample - loss: -565.5608 - acc: 0.3199 - val_loss: 346.3579 - val_acc: 0.8202\n",
            "Epoch 16/100\n",
            "60000/60000 [==============================] - 18s 299us/sample - loss: -580.3482 - acc: 0.3203 - val_loss: 206.2169 - val_acc: 0.8880\n",
            "Epoch 17/100\n",
            "60000/60000 [==============================] - 18s 299us/sample - loss: -661.8448 - acc: 0.3188 - val_loss: 312.5731 - val_acc: 0.8356\n",
            "Epoch 18/100\n",
            "60000/60000 [==============================] - 18s 298us/sample - loss: -711.9885 - acc: 0.3176 - val_loss: 311.4741 - val_acc: 0.8577\n",
            "Epoch 19/100\n",
            "60000/60000 [==============================] - 18s 299us/sample - loss: -787.6918 - acc: 0.3171 - val_loss: 295.1741 - val_acc: 0.8771\n",
            "Epoch 20/100\n",
            "60000/60000 [==============================] - 18s 300us/sample - loss: -834.0151 - acc: 0.3193 - val_loss: 297.3546 - val_acc: 0.8863\n",
            "Epoch 21/100\n",
            "60000/60000 [==============================] - 18s 299us/sample - loss: -967.1573 - acc: 0.3207 - val_loss: 489.0025 - val_acc: 0.8549\n",
            "Epoch 22/100\n",
            "60000/60000 [==============================] - 18s 298us/sample - loss: -1104.7738 - acc: 0.3198 - val_loss: 520.4419 - val_acc: 0.8416\n",
            "Epoch 23/100\n",
            "60000/60000 [==============================] - 18s 303us/sample - loss: -1084.3049 - acc: 0.3200 - val_loss: 432.7711 - val_acc: 0.8830\n",
            "Epoch 24/100\n",
            "60000/60000 [==============================] - 18s 298us/sample - loss: -1192.8586 - acc: 0.3210 - val_loss: 676.2293 - val_acc: 0.8449\n",
            "Epoch 25/100\n",
            "60000/60000 [==============================] - 18s 300us/sample - loss: -1273.9643 - acc: 0.3168 - val_loss: 454.7611 - val_acc: 0.8604\n",
            "Epoch 26/100\n",
            "60000/60000 [==============================] - 18s 299us/sample - loss: -1389.4740 - acc: 0.3196 - val_loss: 800.1771 - val_acc: 0.7945\n",
            "Epoch 27/100\n",
            "60000/60000 [==============================] - 18s 298us/sample - loss: -1453.7455 - acc: 0.3153 - val_loss: 766.4367 - val_acc: 0.8248\n",
            "Epoch 28/100\n",
            "60000/60000 [==============================] - 18s 299us/sample - loss: -1600.3402 - acc: 0.3199 - val_loss: 710.8795 - val_acc: 0.8279\n",
            "Epoch 29/100\n",
            "60000/60000 [==============================] - 18s 298us/sample - loss: -1798.3222 - acc: 0.3207 - val_loss: 777.2910 - val_acc: 0.8522\n",
            "Epoch 30/100\n",
            "60000/60000 [==============================] - 18s 301us/sample - loss: -1822.2155 - acc: 0.3178 - val_loss: 769.5005 - val_acc: 0.8651\n",
            "Epoch 31/100\n",
            "60000/60000 [==============================] - 18s 303us/sample - loss: -2037.7490 - acc: 0.3174 - val_loss: 609.5453 - val_acc: 0.8775\n",
            "Epoch 32/100\n",
            "60000/60000 [==============================] - 18s 300us/sample - loss: -2113.2211 - acc: 0.3198 - val_loss: 1134.6911 - val_acc: 0.8303\n",
            "Epoch 33/100\n",
            "60000/60000 [==============================] - 18s 299us/sample - loss: -2077.3621 - acc: 0.3185 - val_loss: 718.9158 - val_acc: 0.8856\n",
            "Epoch 34/100\n",
            "60000/60000 [==============================] - 18s 297us/sample - loss: -2348.9350 - acc: 0.3164 - val_loss: 1153.5334 - val_acc: 0.8388\n",
            "Epoch 35/100\n",
            "60000/60000 [==============================] - 19s 310us/sample - loss: -2322.8100 - acc: 0.3178 - val_loss: 801.2416 - val_acc: 0.8655\n",
            "Epoch 36/100\n",
            "60000/60000 [==============================] - 18s 298us/sample - loss: -2755.0010 - acc: 0.3160 - val_loss: 1401.5505 - val_acc: 0.8120\n",
            "Epoch 37/100\n",
            "60000/60000 [==============================] - 18s 298us/sample - loss: -2789.5680 - acc: 0.3173 - val_loss: 1213.2968 - val_acc: 0.8549\n",
            "Epoch 38/100\n",
            "60000/60000 [==============================] - 18s 298us/sample - loss: -3063.7987 - acc: 0.3160 - val_loss: 1500.3484 - val_acc: 0.8277\n",
            "Epoch 39/100\n",
            "60000/60000 [==============================] - 18s 299us/sample - loss: -2985.9097 - acc: 0.3166 - val_loss: 1213.0452 - val_acc: 0.8724\n",
            "Epoch 40/100\n",
            "60000/60000 [==============================] - 18s 308us/sample - loss: -3298.5054 - acc: 0.3165 - val_loss: 981.7860 - val_acc: 0.8922\n",
            "Epoch 41/100\n",
            "60000/60000 [==============================] - 18s 295us/sample - loss: -3573.9562 - acc: 0.3196 - val_loss: 1545.2405 - val_acc: 0.8746\n",
            "Epoch 42/100\n",
            "60000/60000 [==============================] - 18s 297us/sample - loss: -3699.6435 - acc: 0.3157 - val_loss: 1148.0745 - val_acc: 0.8898\n",
            "Epoch 43/100\n",
            "60000/60000 [==============================] - 18s 300us/sample - loss: -3723.9565 - acc: 0.3172 - val_loss: 1473.2584 - val_acc: 0.8403\n",
            "Epoch 44/100\n",
            "60000/60000 [==============================] - 18s 298us/sample - loss: -3939.0797 - acc: 0.3133 - val_loss: 1620.6150 - val_acc: 0.8305\n",
            "Epoch 45/100\n",
            "60000/60000 [==============================] - 18s 300us/sample - loss: -4138.9589 - acc: 0.3146 - val_loss: 2003.7351 - val_acc: 0.8221\n",
            "Epoch 46/100\n",
            "60000/60000 [==============================] - 18s 299us/sample - loss: -4631.9714 - acc: 0.3148 - val_loss: 1717.1747 - val_acc: 0.8546\n",
            "Epoch 47/100\n",
            "60000/60000 [==============================] - 18s 299us/sample - loss: -4666.3547 - acc: 0.3155 - val_loss: 2178.0498 - val_acc: 0.8426\n",
            "Epoch 48/100\n",
            "60000/60000 [==============================] - 18s 302us/sample - loss: -4954.9856 - acc: 0.3154 - val_loss: 2227.5290 - val_acc: 0.8485\n",
            "Epoch 49/100\n",
            "60000/60000 [==============================] - 18s 302us/sample - loss: -5478.3059 - acc: 0.3166 - val_loss: 2034.3588 - val_acc: 0.8499\n",
            "Epoch 50/100\n",
            "16750/60000 [=======>......................] - ETA: 12s - loss: -8269.9609 - acc: 0.3176"
          ],
          "name": "stdout"
        },
        {
          "output_type": "error",
          "ename": "KeyboardInterrupt",
          "evalue": "ignored",
          "traceback": [
            "\u001b[0;31m---------------------------------------------------------------------------\u001b[0m",
            "\u001b[0;31mKeyboardInterrupt\u001b[0m                         Traceback (most recent call last)",
            "\u001b[0;32m<ipython-input-71-f80af6f6736c>\u001b[0m in \u001b[0;36m<module>\u001b[0;34m()\u001b[0m\n\u001b[1;32m     11\u001b[0m           \u001b[0mepochs\u001b[0m\u001b[0;34m=\u001b[0m\u001b[0;36m100\u001b[0m\u001b[0;34m,\u001b[0m\u001b[0;34m\u001b[0m\u001b[0;34m\u001b[0m\u001b[0m\n\u001b[1;32m     12\u001b[0m           \u001b[0mvalidation_data\u001b[0m\u001b[0;34m=\u001b[0m\u001b[0;34m(\u001b[0m\u001b[0mtest_data\u001b[0m\u001b[0;34m,\u001b[0m \u001b[0mtest_labels\u001b[0m\u001b[0;34m)\u001b[0m\u001b[0;34m,\u001b[0m\u001b[0;34m\u001b[0m\u001b[0;34m\u001b[0m\u001b[0m\n\u001b[0;32m---> 13\u001b[0;31m           batch_size=batch_size,verbose=1)\n\u001b[0m",
            "\u001b[0;32m/usr/local/lib/python3.6/dist-packages/tensorflow_core/python/keras/engine/training.py\u001b[0m in \u001b[0;36mfit\u001b[0;34m(self, x, y, batch_size, epochs, verbose, callbacks, validation_split, validation_data, shuffle, class_weight, sample_weight, initial_epoch, steps_per_epoch, validation_steps, validation_freq, max_queue_size, workers, use_multiprocessing, **kwargs)\u001b[0m\n\u001b[1;32m    725\u001b[0m         \u001b[0mmax_queue_size\u001b[0m\u001b[0;34m=\u001b[0m\u001b[0mmax_queue_size\u001b[0m\u001b[0;34m,\u001b[0m\u001b[0;34m\u001b[0m\u001b[0;34m\u001b[0m\u001b[0m\n\u001b[1;32m    726\u001b[0m         \u001b[0mworkers\u001b[0m\u001b[0;34m=\u001b[0m\u001b[0mworkers\u001b[0m\u001b[0;34m,\u001b[0m\u001b[0;34m\u001b[0m\u001b[0;34m\u001b[0m\u001b[0m\n\u001b[0;32m--> 727\u001b[0;31m         use_multiprocessing=use_multiprocessing)\n\u001b[0m\u001b[1;32m    728\u001b[0m \u001b[0;34m\u001b[0m\u001b[0m\n\u001b[1;32m    729\u001b[0m   def evaluate(self,\n",
            "\u001b[0;32m/usr/local/lib/python3.6/dist-packages/tensorflow_core/python/keras/engine/training_arrays.py\u001b[0m in \u001b[0;36mfit\u001b[0;34m(self, model, x, y, batch_size, epochs, verbose, callbacks, validation_split, validation_data, shuffle, class_weight, sample_weight, initial_epoch, steps_per_epoch, validation_steps, validation_freq, **kwargs)\u001b[0m\n\u001b[1;32m    673\u001b[0m         \u001b[0mvalidation_steps\u001b[0m\u001b[0;34m=\u001b[0m\u001b[0mvalidation_steps\u001b[0m\u001b[0;34m,\u001b[0m\u001b[0;34m\u001b[0m\u001b[0;34m\u001b[0m\u001b[0m\n\u001b[1;32m    674\u001b[0m         \u001b[0mvalidation_freq\u001b[0m\u001b[0;34m=\u001b[0m\u001b[0mvalidation_freq\u001b[0m\u001b[0;34m,\u001b[0m\u001b[0;34m\u001b[0m\u001b[0;34m\u001b[0m\u001b[0m\n\u001b[0;32m--> 675\u001b[0;31m         steps_name='steps_per_epoch')\n\u001b[0m\u001b[1;32m    676\u001b[0m \u001b[0;34m\u001b[0m\u001b[0m\n\u001b[1;32m    677\u001b[0m   def evaluate(self,\n",
            "\u001b[0;32m/usr/local/lib/python3.6/dist-packages/tensorflow_core/python/keras/engine/training_arrays.py\u001b[0m in \u001b[0;36mmodel_iteration\u001b[0;34m(model, inputs, targets, sample_weights, batch_size, epochs, verbose, callbacks, val_inputs, val_targets, val_sample_weights, shuffle, initial_epoch, steps_per_epoch, validation_steps, validation_freq, mode, validation_in_fit, prepared_feed_values_from_dataset, steps_name, **kwargs)\u001b[0m\n\u001b[1;32m    392\u001b[0m \u001b[0;34m\u001b[0m\u001b[0m\n\u001b[1;32m    393\u001b[0m         \u001b[0;31m# Get outputs.\u001b[0m\u001b[0;34m\u001b[0m\u001b[0;34m\u001b[0m\u001b[0;34m\u001b[0m\u001b[0m\n\u001b[0;32m--> 394\u001b[0;31m         \u001b[0mbatch_outs\u001b[0m \u001b[0;34m=\u001b[0m \u001b[0mf\u001b[0m\u001b[0;34m(\u001b[0m\u001b[0mins_batch\u001b[0m\u001b[0;34m)\u001b[0m\u001b[0;34m\u001b[0m\u001b[0;34m\u001b[0m\u001b[0m\n\u001b[0m\u001b[1;32m    395\u001b[0m         \u001b[0;32mif\u001b[0m \u001b[0;32mnot\u001b[0m \u001b[0misinstance\u001b[0m\u001b[0;34m(\u001b[0m\u001b[0mbatch_outs\u001b[0m\u001b[0;34m,\u001b[0m \u001b[0mlist\u001b[0m\u001b[0;34m)\u001b[0m\u001b[0;34m:\u001b[0m\u001b[0;34m\u001b[0m\u001b[0;34m\u001b[0m\u001b[0m\n\u001b[1;32m    396\u001b[0m           \u001b[0mbatch_outs\u001b[0m \u001b[0;34m=\u001b[0m \u001b[0;34m[\u001b[0m\u001b[0mbatch_outs\u001b[0m\u001b[0;34m]\u001b[0m\u001b[0;34m\u001b[0m\u001b[0;34m\u001b[0m\u001b[0m\n",
            "\u001b[0;32m/usr/local/lib/python3.6/dist-packages/tensorflow_core/python/keras/backend.py\u001b[0m in \u001b[0;36m__call__\u001b[0;34m(self, inputs)\u001b[0m\n\u001b[1;32m   3474\u001b[0m \u001b[0;34m\u001b[0m\u001b[0m\n\u001b[1;32m   3475\u001b[0m     fetched = self._callable_fn(*array_vals,\n\u001b[0;32m-> 3476\u001b[0;31m                                 run_metadata=self.run_metadata)\n\u001b[0m\u001b[1;32m   3477\u001b[0m     \u001b[0mself\u001b[0m\u001b[0;34m.\u001b[0m\u001b[0m_call_fetch_callbacks\u001b[0m\u001b[0;34m(\u001b[0m\u001b[0mfetched\u001b[0m\u001b[0;34m[\u001b[0m\u001b[0;34m-\u001b[0m\u001b[0mlen\u001b[0m\u001b[0;34m(\u001b[0m\u001b[0mself\u001b[0m\u001b[0;34m.\u001b[0m\u001b[0m_fetches\u001b[0m\u001b[0;34m)\u001b[0m\u001b[0;34m:\u001b[0m\u001b[0;34m]\u001b[0m\u001b[0;34m)\u001b[0m\u001b[0;34m\u001b[0m\u001b[0;34m\u001b[0m\u001b[0m\n\u001b[1;32m   3478\u001b[0m     output_structure = nest.pack_sequence_as(\n",
            "\u001b[0;32m/usr/local/lib/python3.6/dist-packages/tensorflow_core/python/client/session.py\u001b[0m in \u001b[0;36m__call__\u001b[0;34m(self, *args, **kwargs)\u001b[0m\n\u001b[1;32m   1470\u001b[0m         ret = tf_session.TF_SessionRunCallable(self._session._session,\n\u001b[1;32m   1471\u001b[0m                                                \u001b[0mself\u001b[0m\u001b[0;34m.\u001b[0m\u001b[0m_handle\u001b[0m\u001b[0;34m,\u001b[0m \u001b[0margs\u001b[0m\u001b[0;34m,\u001b[0m\u001b[0;34m\u001b[0m\u001b[0;34m\u001b[0m\u001b[0m\n\u001b[0;32m-> 1472\u001b[0;31m                                                run_metadata_ptr)\n\u001b[0m\u001b[1;32m   1473\u001b[0m         \u001b[0;32mif\u001b[0m \u001b[0mrun_metadata\u001b[0m\u001b[0;34m:\u001b[0m\u001b[0;34m\u001b[0m\u001b[0;34m\u001b[0m\u001b[0m\n\u001b[1;32m   1474\u001b[0m           \u001b[0mproto_data\u001b[0m \u001b[0;34m=\u001b[0m \u001b[0mtf_session\u001b[0m\u001b[0;34m.\u001b[0m\u001b[0mTF_GetBuffer\u001b[0m\u001b[0;34m(\u001b[0m\u001b[0mrun_metadata_ptr\u001b[0m\u001b[0;34m)\u001b[0m\u001b[0;34m\u001b[0m\u001b[0;34m\u001b[0m\u001b[0m\n",
            "\u001b[0;31mKeyboardInterrupt\u001b[0m: "
          ]
        }
      ]
    },
    {
      "cell_type": "code",
      "metadata": {
        "id": "34mvVcsNYf0R",
        "colab_type": "code",
        "outputId": "d6cd584d-48f6-401c-f12c-59c977ac342a",
        "colab": {
          "base_uri": "https://localhost:8080/",
          "height": 329
        }
      },
      "source": [
        "import matplotlib.pyplot as plt\n",
        "\n",
        "loss_val,metric_acc=model.evaluate(test_data,test_labels,verbose=True)\n",
        "plt.plot(history.history['acc'])\n",
        "plt.plot(history.history['val_acc'])\n",
        "plt.title('model accuracy')\n",
        "plt.ylabel('accuracy')\n",
        "plt.xlabel('epoch')\n",
        "plt.legend(['training', 'validation'], loc='best')\n",
        "plt.show()\n",
        "loss_val,metric_acc"
      ],
      "execution_count": 0,
      "outputs": [
        {
          "output_type": "stream",
          "text": [
            "10000/10000 [==============================] - 1s 143us/sample - loss: 37.7610 - acc: 0.8498\n"
          ],
          "name": "stdout"
        },
        {
          "output_type": "display_data",
          "data": {
            "image/png": "[encoded data removed]",
            "text/plain": [
              "<Figure size 432x288 with 1 Axes>"
            ]
          },
          "metadata": {
            "tags": []
          }
        },
        {
          "output_type": "execute_result",
          "data": {
            "text/plain": [
              "(37.7610272887363, 0.8498)"
            ]
          },
          "metadata": {
            "tags": []
          },
          "execution_count": 70
        }
      ]
    },
    {
      "cell_type": "code",
      "metadata": {
        "id": "sV-wt-0UYii-",
        "colab_type": "code",
        "outputId": "ba9d55ea-20e9-4336-980c-910f28e85e9e",
        "colab": {
          "base_uri": "https://localhost:8080/",
          "height": 34
        }
      },
      "source": [
        ""
      ],
      "execution_count": 0,
      "outputs": [
        {
          "output_type": "execute_result",
          "data": {
            "text/plain": [
              "(10000, 10)"
            ]
          },
          "metadata": {
            "tags": []
          },
          "execution_count": 59
        }
      ]
    },
    {
      "cell_type": "markdown",
      "metadata": {
        "colab_type": "text",
        "id": "c-KyttEWFRDc"
      },
      "source": [
        ""
      ]
    }
  ]
}